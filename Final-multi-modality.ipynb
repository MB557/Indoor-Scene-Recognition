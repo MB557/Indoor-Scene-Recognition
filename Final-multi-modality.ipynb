{
  "nbformat": 4,
  "nbformat_minor": 0,
  "metadata": {
    "colab": {
      "name": "Final.ipynb",
      "provenance": [],
      "collapsed_sections": [],
      "machine_shape": "hm"
    },
    "kernelspec": {
      "name": "python3",
      "display_name": "Python 3"
    },
    "accelerator": "GPU"
  },
  "cells": [
    {
      "cell_type": "markdown",
      "metadata": {
        "id": "CYuxaNwyldMv"
      },
      "source": [
        "# Multi-Modality Fusion Model\n",
        "\n",
        "\n",
        "### INDEX:\n",
        "\n",
        "**1)  [Mount G-Drive](#scrollTo=Jm42Bj4po3Y-)**<br/>\n",
        "**2)  [VGG-16](#scrollTo=kOje8AUqxGz9)**<br/>\n",
        "**3)  [ResNet-50](#scrollTo=yoaXkLst0vxa)**<br/>\n",
        "**4)  [EffecientNet-V3](#scrollTo=9CGehUvs0u_p)**<br/>\n",
        "**5)  [Fusion](#scrollTo=Qfl5gZAn23fO)**<br/>\n",
        "\n",
        "\n",
        "------\n",
        "\n",
        "### Header files"
      ]
    },
    {
      "cell_type": "code",
      "metadata": {
        "id": "a29pWDWFZ90n"
      },
      "source": [
        "# our utils file\n",
        "import utils\n",
        "from models import VGG, ResNet, EffNetB3\n",
        "\n",
        "# basic ML\n",
        "import os\n",
        "import numpy as np\n",
        "import matplotlib.pyplot as plt\n",
        "\n",
        "# connect to drive\n",
        "from google.colab import drive\n",
        "\n",
        "# Sklearn\n",
        "from sklearn.model_selection import train_test_split\n",
        "from sklearn.decomposition import PCA\n",
        "from sklearn import svm"
      ],
      "execution_count": 1,
      "outputs": []
    },
    {
      "cell_type": "markdown",
      "metadata": {
        "id": "Jm42Bj4po3Y-"
      },
      "source": [
        "### Mounting G-Drive"
      ]
    },
    {
      "cell_type": "code",
      "metadata": {
        "colab": {
          "base_uri": "https://localhost:8080/"
        },
        "id": "XI63nr9QZ922",
        "outputId": "bf214582-617e-4aa9-fcf7-c6af9458bf6d"
      },
      "source": [
        "drive.mount('/content/gdrive')\n",
        "pkldest = '/content/gdrive/MyDrive/pkl_files/'\n",
        "dataset = '/content/gdrive/MyDrive/Minidata'"
      ],
      "execution_count": 2,
      "outputs": [
        {
          "output_type": "stream",
          "text": [
            "Drive already mounted at /content/gdrive; to attempt to forcibly remount, call drive.mount(\"/content/gdrive\", force_remount=True).\n"
          ],
          "name": "stdout"
        }
      ]
    },
    {
      "cell_type": "markdown",
      "metadata": {
        "id": "kOje8AUqxGz9"
      },
      "source": [
        "------\n",
        "## VGG 16\n",
        "\n",
        "<img src=\"https://user-images.githubusercontent.com/66634743/113575262-a8d31580-962e-11eb-840a-83f18c2029e3.png\" height=150 width=600>\n",
        "\n",
        "\n",
        "### Loading data from pkl"
      ]
    },
    {
      "cell_type": "code",
      "metadata": {
        "id": "k62IXzWg2I61",
        "colab": {
          "base_uri": "https://localhost:8080/"
        },
        "outputId": "5bd1b4b6-2cf1-4567-83d0-63e7768c323a"
      },
      "source": [
        "images = utils.load_from_pkl(pkldest+\"vgg16_images.pkl\")\n",
        "scenes = utils.load_from_pkl(pkldest+\"scenes.pkl\")\n",
        "\n",
        "print(\"Shape of Images = \", images.shape)\n",
        "print(\"Shape of Scenes = \", scenes.shape)"
      ],
      "execution_count": 3,
      "outputs": [
        {
          "output_type": "stream",
          "text": [
            "Shape of Images =  (5059, 224, 224, 3)\n",
            "Shape of Scenes =  (5059,)\n"
          ],
          "name": "stdout"
        }
      ]
    },
    {
      "cell_type": "markdown",
      "metadata": {
        "id": "ykXOCUwL2JkD"
      },
      "source": [
        "### Building the model"
      ]
    },
    {
      "cell_type": "code",
      "metadata": {
        "id": "8S3jKGOw5FKB",
        "colab": {
          "base_uri": "https://localhost:8080/"
        },
        "outputId": "4e39b417-5789-4aaf-8c9c-14b648613f87"
      },
      "source": [
        "vgg = VGG()\n",
        "vgg.freeze()\n",
        "\n",
        "vgg_features = vgg.predict(images=images)"
      ],
      "execution_count": 4,
      "outputs": [
        {
          "output_type": "stream",
          "text": [
            "159/159 [==============================] - 19s 61ms/step\n"
          ],
          "name": "stdout"
        }
      ]
    },
    {
      "cell_type": "markdown",
      "metadata": {
        "id": "ZHjHhMt4z9XZ"
      },
      "source": [
        "### Dumping data into .pkl files"
      ]
    },
    {
      "cell_type": "code",
      "metadata": {
        "id": "x98eoov30Rkq"
      },
      "source": [
        "if(\"vgg16_features.pkl\" not in os.listdir(pkldest)):\n",
        "    utils.dump_into_pkl(vgg_features, pkldest+\"vgg16_features.pkl\")"
      ],
      "execution_count": 5,
      "outputs": []
    },
    {
      "cell_type": "markdown",
      "metadata": {
        "id": "MVHMzi0WJduu"
      },
      "source": [
        "### PCA (k = 512)"
      ]
    },
    {
      "cell_type": "code",
      "metadata": {
        "colab": {
          "base_uri": "https://localhost:8080/"
        },
        "id": "QpUzqq-7Jdxp",
        "outputId": "801f8b36-a0ee-4c51-f605-027e95a48fa5"
      },
      "source": [
        "scenes = utils.prep_labels(scenes)\n",
        "k = 512\n",
        "\n",
        "pca = PCA(n_components=k)\n",
        "\n",
        "pca.fit(vgg_features)\n",
        "PCA_features = pca.transform(vgg_features)\n",
        "\n",
        "print(\"Shape after PCA \", PCA_features.shape)"
      ],
      "execution_count": 6,
      "outputs": [
        {
          "output_type": "stream",
          "text": [
            "Shape after PCA  (5059, 512)\n"
          ],
          "name": "stdout"
        }
      ]
    },
    {
      "cell_type": "markdown",
      "metadata": {
        "id": "cx8Ugm__Hz4s"
      },
      "source": [
        "### Classifier"
      ]
    },
    {
      "cell_type": "code",
      "metadata": {
        "colab": {
          "base_uri": "https://localhost:8080/"
        },
        "id": "48jZ6CkmHz8L",
        "outputId": "0bd39eb4-d934-48bc-8744-20add1fa0061"
      },
      "source": [
        "X_train, X_test, y_train, y_test = train_test_split(PCA_features, scenes, test_size=0.2, random_state=42)\n",
        "\n",
        "classifier = svm.SVC(kernel='rbf', probability=True)\n",
        "\n",
        "classifier.fit(X_train, y_train)"
      ],
      "execution_count": 7,
      "outputs": [
        {
          "output_type": "execute_result",
          "data": {
            "text/plain": [
              "SVC(C=1.0, break_ties=False, cache_size=200, class_weight=None, coef0=0.0,\n",
              "    decision_function_shape='ovr', degree=3, gamma='scale', kernel='rbf',\n",
              "    max_iter=-1, probability=True, random_state=None, shrinking=True, tol=0.001,\n",
              "    verbose=False)"
            ]
          },
          "metadata": {
            "tags": []
          },
          "execution_count": 7
        }
      ]
    },
    {
      "cell_type": "markdown",
      "metadata": {
        "id": "HOSGgIOrH0Xm"
      },
      "source": [
        "### Temporary Results"
      ]
    },
    {
      "cell_type": "code",
      "metadata": {
        "colab": {
          "base_uri": "https://localhost:8080/"
        },
        "id": "PRmlcAG3H0an",
        "outputId": "5db4a8d2-e133-4386-c87a-2c6fa4b30b2d"
      },
      "source": [
        "pred = classifier.predict(X_test)\n",
        "\n",
        "acc = np.sum(1*(pred==y_test))/y_test.shape[0]\n",
        "print(\"VGG + SVM  = \", acc*100)"
      ],
      "execution_count": 8,
      "outputs": [
        {
          "output_type": "stream",
          "text": [
            "VGG + SVM  =  84.38735177865613\n"
          ],
          "name": "stdout"
        }
      ]
    },
    {
      "cell_type": "markdown",
      "metadata": {
        "id": "0yjebCksQt1c"
      },
      "source": [
        "### Prababilities of classes"
      ]
    },
    {
      "cell_type": "code",
      "metadata": {
        "colab": {
          "base_uri": "https://localhost:8080/"
        },
        "id": "FthyxE32Qt_v",
        "outputId": "1a3eaab9-ed6a-4437-e87e-308b1b6198ed"
      },
      "source": [
        "vgg16_probs = classifier.predict_proba(X_test)\n",
        "\n",
        "print(vgg16_probs.shape)"
      ],
      "execution_count": 9,
      "outputs": [
        {
          "output_type": "stream",
          "text": [
            "(1012, 10)\n"
          ],
          "name": "stdout"
        }
      ]
    },
    {
      "cell_type": "markdown",
      "metadata": {
        "id": "yoaXkLst0vxa"
      },
      "source": [
        "------\n",
        "## ResNet50\n",
        "\n",
        "<img src=\"https://user-images.githubusercontent.com/66634743/113575413-dfa92b80-962e-11eb-902c-380e39b91234.png\" height=150 width=600>\n",
        "\n",
        "### Loading data from pkl\n",
        "\n"
      ]
    },
    {
      "cell_type": "code",
      "metadata": {
        "colab": {
          "base_uri": "https://localhost:8080/"
        },
        "id": "-8SKmaNRLM4b",
        "outputId": "8978ca60-4a3a-4bd8-9a0f-0efd3f6e6c37"
      },
      "source": [
        "images = utils.load_from_pkl(pkldest+\"resnet_images.pkl\")\n",
        "scenes = utils.load_from_pkl(pkldest+\"scenes.pkl\")\n",
        "\n",
        "print(\"Shape of Images = \", images.shape)\n",
        "print(\"Shape of Scenes = \", scenes.shape)"
      ],
      "execution_count": 10,
      "outputs": [
        {
          "output_type": "stream",
          "text": [
            "Shape of Images =  (5059, 512, 512, 3)\n",
            "Shape of Scenes =  (5059,)\n"
          ],
          "name": "stdout"
        }
      ]
    },
    {
      "cell_type": "markdown",
      "metadata": {
        "id": "EiILcmfRLNAg"
      },
      "source": [
        "### Building the model"
      ]
    },
    {
      "cell_type": "code",
      "metadata": {
        "id": "NfKKm_VW0vqI",
        "colab": {
          "base_uri": "https://localhost:8080/"
        },
        "outputId": "855648b2-b4cb-414e-efcc-272bab2d6028"
      },
      "source": [
        "resnet = ResNet()\n",
        "resnet.freeze()\n",
        "\n",
        "resnet_features = resnet.predict(images=images)"
      ],
      "execution_count": 11,
      "outputs": [
        {
          "output_type": "stream",
          "text": [
            "159/159 [==============================] - 37s 223ms/step\n"
          ],
          "name": "stdout"
        }
      ]
    },
    {
      "cell_type": "markdown",
      "metadata": {
        "id": "DNi5kCL_z9gx"
      },
      "source": [
        "### Dumping data into .pkl files"
      ]
    },
    {
      "cell_type": "code",
      "metadata": {
        "id": "ApwjV_wqLKk8"
      },
      "source": [
        "if(\"resnet_features.pkl\" not in os.listdir(pkldest)):\n",
        "    utils.dump_into_pkl(resnet_features, pkldest+\"resnet_features.pkl\")"
      ],
      "execution_count": 12,
      "outputs": []
    },
    {
      "cell_type": "markdown",
      "metadata": {
        "id": "9ivcNh1qL5gO"
      },
      "source": [
        "### PCA (k = 128)"
      ]
    },
    {
      "cell_type": "code",
      "metadata": {
        "colab": {
          "base_uri": "https://localhost:8080/"
        },
        "id": "mQDg0HgyL5gt",
        "outputId": "7e0b9311-d664-4193-8457-4f9187d2744e"
      },
      "source": [
        "scenes = utils.prep_labels(scenes)\n",
        "k = 128\n",
        "\n",
        "pca = PCA(n_components=k)\n",
        "\n",
        "pca.fit(resnet_features)\n",
        "PCA_features = pca.transform(resnet_features)\n",
        "\n",
        "print(\"Shape after PCA \", PCA_features.shape)"
      ],
      "execution_count": 13,
      "outputs": [
        {
          "output_type": "stream",
          "text": [
            "Shape after PCA  (5059, 128)\n"
          ],
          "name": "stdout"
        }
      ]
    },
    {
      "cell_type": "markdown",
      "metadata": {
        "id": "gUMAvuV8L5gv"
      },
      "source": [
        "### Classifier"
      ]
    },
    {
      "cell_type": "code",
      "metadata": {
        "colab": {
          "base_uri": "https://localhost:8080/"
        },
        "id": "z6F3impkL5gw",
        "outputId": "8c262da9-e5c6-47db-8e17-413ae937628d"
      },
      "source": [
        "X_train, X_test, y_train, y_test = train_test_split(PCA_features, scenes, test_size=0.2, random_state=42)\n",
        "\n",
        "classifier = svm.SVC(kernel='rbf', probability=True)\n",
        "\n",
        "classifier.fit(X_train, y_train)"
      ],
      "execution_count": 14,
      "outputs": [
        {
          "output_type": "execute_result",
          "data": {
            "text/plain": [
              "SVC(C=1.0, break_ties=False, cache_size=200, class_weight=None, coef0=0.0,\n",
              "    decision_function_shape='ovr', degree=3, gamma='scale', kernel='rbf',\n",
              "    max_iter=-1, probability=True, random_state=None, shrinking=True, tol=0.001,\n",
              "    verbose=False)"
            ]
          },
          "metadata": {
            "tags": []
          },
          "execution_count": 14
        }
      ]
    },
    {
      "cell_type": "markdown",
      "metadata": {
        "id": "0JgRsM0JL5gw"
      },
      "source": [
        "### Temporary Results"
      ]
    },
    {
      "cell_type": "code",
      "metadata": {
        "colab": {
          "base_uri": "https://localhost:8080/"
        },
        "id": "V2K5ABIHL5gw",
        "outputId": "2e4b7021-1711-4841-af52-cb27335c18bd"
      },
      "source": [
        "pred = classifier.predict(X_test)\n",
        "\n",
        "acc = np.sum(1*(pred==y_test))/y_test.shape[0]\n",
        "print(\"ResNet50 + SVM  = \", acc*100)"
      ],
      "execution_count": 15,
      "outputs": [
        {
          "output_type": "stream",
          "text": [
            "ResNet50 + SVM  =  90.11857707509881\n"
          ],
          "name": "stdout"
        }
      ]
    },
    {
      "cell_type": "markdown",
      "metadata": {
        "id": "8qXvTfVRRwwp"
      },
      "source": [
        "### Prababilities of classes"
      ]
    },
    {
      "cell_type": "code",
      "metadata": {
        "colab": {
          "base_uri": "https://localhost:8080/"
        },
        "id": "RlcpAucyRww1",
        "outputId": "7d1cbdd8-f9d5-4a7b-e3f8-c59181693d76"
      },
      "source": [
        "resnet_probs = classifier.predict_proba(X_test)\n",
        "\n",
        "print(resnet_probs.shape)"
      ],
      "execution_count": 16,
      "outputs": [
        {
          "output_type": "stream",
          "text": [
            "(1012, 10)\n"
          ],
          "name": "stdout"
        }
      ]
    },
    {
      "cell_type": "markdown",
      "metadata": {
        "id": "9CGehUvs0u_p"
      },
      "source": [
        "------\n",
        "## EfficientNetB3\n",
        "\n",
        "<img src=\"https://user-images.githubusercontent.com/66634743/113626999-ec03a780-9673-11eb-9779-21d376f419d2.png\" height=150 width=600>\n",
        "\n",
        "### Loading data from pkl\n"
      ]
    },
    {
      "cell_type": "code",
      "metadata": {
        "id": "d5dc2TV615QE",
        "colab": {
          "base_uri": "https://localhost:8080/"
        },
        "outputId": "c68cca38-370d-45e4-daa2-0c67aa1ed734"
      },
      "source": [
        "images = utils.load_from_pkl(pkldest+\"Effnetb3_images.pkl\")\n",
        "scenes = utils.load_from_pkl(pkldest+\"scenes.pkl\")\n",
        "\n",
        "print(\"Shape of Images = \", images.shape)\n",
        "print(\"Shape of Scenes = \", scenes.shape)"
      ],
      "execution_count": 17,
      "outputs": [
        {
          "output_type": "stream",
          "text": [
            "Shape of Images =  (5059, 300, 300, 3)\n",
            "Shape of Scenes =  (5059,)\n"
          ],
          "name": "stdout"
        }
      ]
    },
    {
      "cell_type": "markdown",
      "metadata": {
        "id": "AO_o5kMV15em"
      },
      "source": [
        "### Building the model"
      ]
    },
    {
      "cell_type": "code",
      "metadata": {
        "id": "RZgw4Ny40ucU",
        "colab": {
          "base_uri": "https://localhost:8080/"
        },
        "outputId": "72fd9eb1-65ea-4f00-8e17-fd34a67b466a"
      },
      "source": [
        "effnetB3 = EffNetB3()\n",
        "\n",
        "effnetB3.freeze()\n",
        "\n",
        "effnetB3_features = effnetB3.predict(images=images)"
      ],
      "execution_count": 18,
      "outputs": [
        {
          "output_type": "stream",
          "text": [
            "159/159 [==============================] - 20s 110ms/step\n"
          ],
          "name": "stdout"
        }
      ]
    },
    {
      "cell_type": "markdown",
      "metadata": {
        "id": "128nA6Wk1GQe"
      },
      "source": [
        "### Dumping data into .pkl files"
      ]
    },
    {
      "cell_type": "code",
      "metadata": {
        "id": "QU2TuUPR1GIR"
      },
      "source": [
        "if(\"effnetB3_features.pkl\" not in os.listdir(pkldest)):\n",
        "    utils.dump_into_pkl(effnetB3_features, pkldest+\"effnetB3_features.pkl\")"
      ],
      "execution_count": 19,
      "outputs": []
    },
    {
      "cell_type": "markdown",
      "metadata": {
        "id": "-sRQYYRMPE2f"
      },
      "source": [
        "### PCA (k = 128)"
      ]
    },
    {
      "cell_type": "code",
      "metadata": {
        "colab": {
          "base_uri": "https://localhost:8080/"
        },
        "id": "L3Iy_gB7PE2t",
        "outputId": "46b162ff-cb92-471b-92e4-ad406c352c62"
      },
      "source": [
        "scenes = utils.prep_labels(scenes)\n",
        "k = 128\n",
        "\n",
        "pca = PCA(n_components=k)\n",
        "\n",
        "pca.fit(effnetB3_features)\n",
        "PCA_features = pca.transform(effnetB3_features)\n",
        "\n",
        "print(\"Shape after PCA \", PCA_features.shape)"
      ],
      "execution_count": 20,
      "outputs": [
        {
          "output_type": "stream",
          "text": [
            "Shape after PCA  (5059, 128)\n"
          ],
          "name": "stdout"
        }
      ]
    },
    {
      "cell_type": "markdown",
      "metadata": {
        "id": "ikTowEJNPE2t"
      },
      "source": [
        "### Classifier"
      ]
    },
    {
      "cell_type": "code",
      "metadata": {
        "colab": {
          "base_uri": "https://localhost:8080/"
        },
        "id": "hufIOi8XPE2u",
        "outputId": "0517fa73-1127-488c-9252-9bad0e6d22b0"
      },
      "source": [
        "X_train, X_test, y_train, y_test = train_test_split(PCA_features, scenes, test_size=0.2, random_state=42)\n",
        "\n",
        "classifier = svm.SVC(kernel='rbf', probability=True)\n",
        "\n",
        "classifier.fit(X_train, y_train)"
      ],
      "execution_count": 21,
      "outputs": [
        {
          "output_type": "execute_result",
          "data": {
            "text/plain": [
              "SVC(C=1.0, break_ties=False, cache_size=200, class_weight=None, coef0=0.0,\n",
              "    decision_function_shape='ovr', degree=3, gamma='scale', kernel='rbf',\n",
              "    max_iter=-1, probability=True, random_state=None, shrinking=True, tol=0.001,\n",
              "    verbose=False)"
            ]
          },
          "metadata": {
            "tags": []
          },
          "execution_count": 21
        }
      ]
    },
    {
      "cell_type": "markdown",
      "metadata": {
        "id": "sVAQDQ9MPE2u"
      },
      "source": [
        "### Temporary Results"
      ]
    },
    {
      "cell_type": "code",
      "metadata": {
        "colab": {
          "base_uri": "https://localhost:8080/"
        },
        "id": "lP86C5_hPE2u",
        "outputId": "6d5daa8c-e97c-46aa-a870-9668509d5524"
      },
      "source": [
        "pred = classifier.predict(X_test)\n",
        "\n",
        "acc = np.sum(1*(pred==y_test))/y_test.shape[0]\n",
        "print(\"EffNetb3 + SVM  = \", acc*100)"
      ],
      "execution_count": 22,
      "outputs": [
        {
          "output_type": "stream",
          "text": [
            "EffNetb3 + SVM  =  90.11857707509881\n"
          ],
          "name": "stdout"
        }
      ]
    },
    {
      "cell_type": "markdown",
      "metadata": {
        "id": "dV15mwFZSBCj"
      },
      "source": [
        "### Prababilities of classes"
      ]
    },
    {
      "cell_type": "code",
      "metadata": {
        "colab": {
          "base_uri": "https://localhost:8080/"
        },
        "id": "1I0_G6CDSBCo",
        "outputId": "0bcd0def-b037-4e34-cd32-624531d144c7"
      },
      "source": [
        "effnet_probs = classifier.predict_proba(X_test)\n",
        "\n",
        "print(effnet_probs.shape)"
      ],
      "execution_count": 23,
      "outputs": [
        {
          "output_type": "stream",
          "text": [
            "(1012, 10)\n"
          ],
          "name": "stdout"
        }
      ]
    },
    {
      "cell_type": "markdown",
      "metadata": {
        "id": "Qfl5gZAn23fO"
      },
      "source": [
        "------\n",
        "\n",
        "## Fusion\n",
        "\n",
        "<img src=\"https://user-images.githubusercontent.com/66634743/113685129-f99e4900-96d6-11eb-985b-e477cdc3074b.png\" height=400 width=800>\n",
        "\n",
        "### Fusing the predictions of the 3 models"
      ]
    },
    {
      "cell_type": "code",
      "metadata": {
        "id": "qakrfVlB2-xw"
      },
      "source": [
        "merged = (effnet_probs + resnet_probs + vgg16_probs)/3\n",
        "\n",
        "merged_preds = np.argmax(merged, axis=1)"
      ],
      "execution_count": 24,
      "outputs": []
    },
    {
      "cell_type": "markdown",
      "metadata": {
        "id": "lcQOEIbEZHlI"
      },
      "source": [
        "### Final Multi-Modality Model Result"
      ]
    },
    {
      "cell_type": "code",
      "metadata": {
        "colab": {
          "base_uri": "https://localhost:8080/"
        },
        "id": "y7cG1tkqUg20",
        "outputId": "66d82f2f-29e8-4800-e8df-d793a43a0925"
      },
      "source": [
        "final_acc = np.sum(y_test == merged_preds)/merged_preds.shape[0]\n",
        "\n",
        "print(\"Multi-Modality Model : \", final_acc)"
      ],
      "execution_count": 25,
      "outputs": [
        {
          "output_type": "stream",
          "text": [
            "Multi-Modality Model :  0.9140316205533597\n"
          ],
          "name": "stdout"
        }
      ]
    }
  ]
}